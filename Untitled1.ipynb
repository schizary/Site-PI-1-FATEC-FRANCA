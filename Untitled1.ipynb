{
  "nbformat": 4,
  "nbformat_minor": 0,
  "metadata": {
    "colab": {
      "provenance": [],
      "authorship_tag": "ABX9TyO6P3dfZCm/SB1Df1iHb23a",
      "include_colab_link": true
    },
    "kernelspec": {
      "name": "python3",
      "display_name": "Python 3"
    },
    "language_info": {
      "name": "python"
    }
  },
  "cells": [
    {
      "cell_type": "markdown",
      "metadata": {
        "id": "view-in-github",
        "colab_type": "text"
      },
      "source": [
        "<a href=\"https://colab.research.google.com/github/schizary/Site-PI-1-FATEC-FRANCA/blob/main/Untitled1.ipynb\" target=\"_parent\"><img src=\"https://colab.research.google.com/assets/colab-badge.svg\" alt=\"Open In Colab\"/></a>"
      ]
    },
    {
      "cell_type": "code",
      "source": [
        "TABADA"
      ],
      "metadata": {
        "id": "ohmw6lHE6JGk"
      },
      "execution_count": null,
      "outputs": []
    },
    {
      "cell_type": "markdown",
      "source": [],
      "metadata": {
        "id": "1wPgAFwY6IMz"
      }
    },
    {
      "cell_type": "code",
      "source": [
        "num = int(input('escolha seu numero:'))\n",
        "print(f'{num} * 1 = {num*1}')\n",
        "print(f'{num} * 2 = {num*2}')\n",
        "print(f'{num} * 3 = {num*3}')\n",
        "print(f'{num} * 4 = {num*4}')\n",
        "print(f'{num} * 5 = {num*5}')\n",
        "print(f'{num} * 6 = {num*6}')\n",
        "print(f'{num} * 7 = {num*7}')\n",
        "print(f'{num} * 8 = {num*8}')\n",
        "print(f'{num} * 9 = {num*9}')\n",
        "print(f'{num} * 10 = {num*10}')\n"
      ],
      "metadata": {
        "id": "zweNcqG25b4j"
      },
      "execution_count": null,
      "outputs": []
    },
    {
      "cell_type": "markdown",
      "source": [
        "atividade2"
      ],
      "metadata": {
        "id": "BbBD0z706iiU"
      }
    },
    {
      "cell_type": "code",
      "source": [
        "id1 = int(input('idade 1: '))\n",
        "id2 = int(input('idade 2: '))\n",
        "if (id1 > id2): #>, <, >=, ,<=, ==, !=\n",
        "  print (f'maior idade:{id1}')\n",
        "else:\n",
        "  print(f'maior idade: {id2}')"
      ],
      "metadata": {
        "id": "sEZKddb77aFk"
      },
      "execution_count": null,
      "outputs": []
    },
    {
      "cell_type": "markdown",
      "source": [
        "atividade 4"
      ],
      "metadata": {
        "id": "QrhtIb3j-B3h"
      }
    },
    {
      "cell_type": "code",
      "source": [
        "dia = int(input('data do dia: '))\n",
        "mes = int(input('mês: '))\n",
        "ano = int(input('ano: '))\n",
        "print (f'data =:{dia}/{mes}/{ano}')"
      ],
      "metadata": {
        "colab": {
          "base_uri": "https://localhost:8080/"
        },
        "id": "IakhQjp8-DVP",
        "outputId": "b74da340-5cf0-4beb-991b-47b0c1099386"
      },
      "execution_count": 10,
      "outputs": [
        {
          "output_type": "stream",
          "name": "stdout",
          "text": [
            "data do dia: 2\n",
            "mês: 3\n",
            "ano: 2006\n",
            "data =:2/3/2006\n"
          ]
        }
      ]
    },
    {
      "cell_type": "markdown",
      "source": [
        "ATIVIDADE 2"
      ],
      "metadata": {
        "id": "hByaMxOqAXU2"
      }
    },
    {
      "cell_type": "code",
      "source": [
        "a = int(input('valor A: '))\n",
        "b = int(input('valor B: '))\n",
        "c = 0\n",
        "c= a\n",
        "a=b\n",
        "b=c\n",
        "print(f'valores invertidos {a};{b}')"
      ],
      "metadata": {
        "colab": {
          "base_uri": "https://localhost:8080/"
        },
        "id": "HYRC2WWhAZR9",
        "outputId": "f8479ed7-a580-4b59-bcf9-1f9b885e8c09"
      },
      "execution_count": 13,
      "outputs": [
        {
          "output_type": "stream",
          "name": "stdout",
          "text": [
            "valor A: 2\n",
            "valor B: 5\n",
            "valores invertidos 5;2\n"
          ]
        }
      ]
    },
    {
      "cell_type": "markdown",
      "source": [
        "at3"
      ],
      "metadata": {
        "id": "DkWFSlYwCcvS"
      }
    },
    {
      "cell_type": "code",
      "source": [
        "comb = (input('tipo de combustivel(digite A ou G): '))\n",
        "kltr = float(input('quantidade de kilometros por litro: '))\n",
        "km = float(input('quantos kilometros vai percorrer: '))\n",
        "ltrs = km / kltr\n",
        "a= 5.10\n",
        "g = 3.45\n",
        "valora = ltrs * a\n",
        "valorg = ltrs * g\n",
        "\n",
        "if (comb == 'a'):\n",
        "  print(f'vai gastar {valora} reais ')\n",
        "else:\n",
        "  print(f'vai gastar {valorg}reais')"
      ],
      "metadata": {
        "colab": {
          "base_uri": "https://localhost:8080/"
        },
        "id": "2BTG96-ECdm5",
        "outputId": "8b944bfa-d3d0-4f54-eab0-9fc4c44f5da7"
      },
      "execution_count": 26,
      "outputs": [
        {
          "output_type": "stream",
          "name": "stdout",
          "text": [
            "tipo de combustivel(digite A ou G): a\n",
            "quantidade de kilometros por litro: 25\n",
            "quantos kilometros vai percorrer: 100\n",
            "vai gastar 20.4 reais \n"
          ]
        }
      ]
    },
    {
      "cell_type": "markdown",
      "source": [
        "at5"
      ],
      "metadata": {
        "id": "GIBkHkIFKGQD"
      }
    },
    {
      "cell_type": "code",
      "source": [
        "valor = float(input('valor da compra: '))\n",
        "desc = valor * 0.10\n",
        "valdesc = valor - desc\n",
        "if (valor>100):\n",
        "  print(f'valor da compra com desconto: {valdesc}')\n",
        "else:\n",
        "  print(f'você não tem o suficiente para receber desconto, sua compra custou: {valor}')"
      ],
      "metadata": {
        "colab": {
          "base_uri": "https://localhost:8080/"
        },
        "id": "fbm3j_2JKHKC",
        "outputId": "33d0cb29-0a12-4e25-8e00-7f6335f0f61f"
      },
      "execution_count": 31,
      "outputs": [
        {
          "output_type": "stream",
          "name": "stdout",
          "text": [
            "valor da compra: 88\n",
            "você não tem o suficiente para receber desconto, sua compra custou: 88.0\n"
          ]
        }
      ]
    },
    {
      "cell_type": "markdown",
      "source": [
        "at6"
      ],
      "metadata": {
        "id": "wHGPItD_PAGS"
      }
    },
    {
      "cell_type": "code",
      "source": [
        "c1nome = input('nome do candidato 1: ')\n",
        "c1qv = float(input('quantidade de votos: '))\n",
        "c2nome = input('nome do candidato 2: ')\n",
        "c2qv = float(input('quantidade de votos: '))\n",
        "t= c1qv + c2qv\n",
        "prc1= c1qv / t * 100\n",
        "prc2= c2qv / t * 100\n",
        "if (c1qv>c2qv):\n",
        "  print(f'O CANDIDATO {c1nome} OBTEVE {c1qv} VOTOS, O QUE REPRESENTA {round(prc1)}% DOS VOTOS TOTAIS')\n",
        "  print(f'Em 2 lugar, o candidato {c2nome} obteve {c2qv} votos, o que representa {round(prc2)}% dos votos totais')\n",
        "else:\n",
        "  print(f'O CANDIDATO {c2nome} OBTEVE {c2qv} VOTOS, O QUE REPRESENTA {round(prc2)}% DOS VOTOS TOTAIS')\n",
        "  print(f'Em 2 lugar, o candidato {c1nome} obteve {c1qv} votos, o que representa {round(prc1)}% dos votos totais')"
      ],
      "metadata": {
        "colab": {
          "base_uri": "https://localhost:8080/"
        },
        "id": "91ADb65hPBIB",
        "outputId": "45b9e8ba-7aec-4c59-893e-3601b55b483b"
      },
      "execution_count": 46,
      "outputs": [
        {
          "output_type": "stream",
          "name": "stdout",
          "text": [
            "nome do candidato 1: gerso\n",
            "quantidade de votos: 34\n",
            "nome do candidato 2: lincon\n",
            "quantidade de votos: 97\n",
            "O CANDIDATO lincon OBTEVE 97.0 VOTOS, O QUE REPRESENTA 74% DOS VOTOS TOTAIS\n",
            "Em 2 lugar, o candidato gerso obteve 34.0 votos, o que representa 26% dos votos totais\n"
          ]
        }
      ]
    },
    {
      "cell_type": "markdown",
      "source": [
        "AT7"
      ],
      "metadata": {
        "id": "jhWMlPiCWMYr"
      }
    },
    {
      "cell_type": "code",
      "source": [
        "n = input('nome do empregado: ')\n",
        "s = float(input('salario do empregado: '))\n",
        "if (s>5000):\n",
        "  sd = s + s*0.05\n",
        "  print(f'o {n}, de salario {s} entrou na faixa de 5% de aumento e o salario passou de {s} para {sd}')\n",
        "else:\n",
        "  sd2 = s + s*0.10\n",
        "  print(f' o {n}, de salario {s} entrou na faixa de 10% de desconto e o salario passou de {s} para {sd2}')\n"
      ],
      "metadata": {
        "colab": {
          "base_uri": "https://localhost:8080/"
        },
        "id": "qTKhaWHhWVlr",
        "outputId": "e8925e3e-9e5e-418c-cd4a-f9ec6ca74c89"
      },
      "execution_count": 51,
      "outputs": [
        {
          "output_type": "stream",
          "name": "stdout",
          "text": [
            "nome do empregado: gerso\n",
            "salario do empregado: 3000\n",
            " o gerso, de salario 3000.0 entrou na faixa de 10% de desconto e o salario passou de 3000.0 para 3300.0\n"
          ]
        }
      ]
    },
    {
      "cell_type": "markdown",
      "source": [
        "at8"
      ],
      "metadata": {
        "id": "8I9zYtCva5ul"
      }
    },
    {
      "cell_type": "code",
      "source": [
        "n1 = float(input('nota 1:'))\n",
        "n2 = float(input('nota 2:'))\n",
        "n3 = float(input('nota 3:'))\n",
        "n4 = float(input('nota 4:'))\n",
        "n5 = float(input('nota 5:'))\n",
        "ng = round((n1 + n2 + n3 + n4 + n5) /5 , 1)\n",
        "if (ng>=9):\n",
        "  print(f'MENÇÃO DE DESTAQUE')\n",
        "else:\n",
        "  print(f'n recebe')\n"
      ],
      "metadata": {
        "colab": {
          "base_uri": "https://localhost:8080/"
        },
        "id": "iI6h8QgVa67V",
        "outputId": "605f3c84-ea8f-4931-cec7-fbc96408bdbc"
      },
      "execution_count": 63,
      "outputs": [
        {
          "output_type": "stream",
          "name": "stdout",
          "text": [
            "nota 1:1\n",
            "nota 2:5\n",
            "nota 3:4\n",
            "nota 4:7\n",
            "nota 5:3\n",
            "n recebe\n"
          ]
        }
      ]
    },
    {
      "cell_type": "code",
      "source": [],
      "metadata": {
        "id": "CP_AqDz0bzD0"
      },
      "execution_count": null,
      "outputs": []
    }
  ]
}